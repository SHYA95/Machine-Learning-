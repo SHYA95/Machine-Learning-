{
 "cells": [
  {
   "cell_type": "code",
   "execution_count": null,
   "id": "c9cf38b6",
   "metadata": {},
   "outputs": [],
   "source": [
    "import os\n",
    "import tkinter as tk\n",
    "from tkinter import *\n",
    "import sys, subprocess\n",
    "\n",
    "\n",
    "root= Tk()\n",
    "root.title('Main runner')\n",
    "root.geometry('800x450')\n",
    "\n",
    "def RFT():\n",
    "    opener = \"open\" if sys.platform == \"darwin\" else \"xdg-open\"\n",
    "    subprocess.call([opener, \"/Users/shroukyasser/Desktop/final project/RFT.ipynb\"])\n",
    " \n",
    "\n",
    "def KNN():\n",
    "    opener = \"open\" if sys.platform == \"darwin\" else \"xdg-open\"\n",
    "    subprocess.call([opener, \"/Users/shroukyasser/Desktop/final project/KNN.ipynb\"])\n",
    " \n",
    "    \n",
    "\n",
    "def SVMCls():\n",
    "    open(os.path.expanduser(\"/Users/shroukyasser/Desktop/final project/KNN.ipynb\"))\n",
    "\n",
    "\n",
    "def LinReg():\n",
    "    os.system(\"/Users/shroukyasser/Desktop/final project/KNN.ipynb\")\n",
    "\n",
    "def DecCls():\n",
    "    opener = \"open\" if sys.platform == \"darwin\" else \"xdg-open\"\n",
    "    subprocess.call([opener, \"/Users/shroukyasser/Desktop/final project/Decision - Cls.py.ipynb\"])\n",
    " \n",
    "    \n",
    "def Best_Class():\n",
    "    os.startfile(r\"/Users/shroukyasser/Desktop/final project/Best_Classifier.py\",operation=\"open\")\n",
    "\n",
    "def Best_Reg():\n",
    "    os.startfile(r\"/Users/shroukyasser/Desktop/final project/Best_Regressor.py\",operation=\"open\")\n",
    "    \n",
    "\n",
    "Label(root,text=\"Choose the model based on the type of problem\",fg = \"green\",font='Helvetica 18 bold italic').place(x=180,y=20) \n",
    "\n",
    "\n",
    "Label(root,text=\"Regression\",font=\"System\").place(x=150,y=75)\n",
    "Label(root,text=\"Classification\",font=\"System\").place(x=550,y=75)\n",
    "\n",
    "\n",
    "Button(root,text='RFT',activebackground=\"black\",command=RFT,activeforeground=\"white\").place(x=550,y=190)\n",
    "Button(root,text='KNN',command=KNN,activebackground=\"black\",activeforeground=\"white\").place(x=550,y=160)\n",
    "Button(root,text='SVM',activebackground=\"black\",command=SVMCls,activeforeground=\"white\").place(x=550,y=130)\n",
    "Button(root,text='Linear Regression',activebackground=\"black\",command=LinReg,activeforeground=\"white\").place(x=150,y=130)\n",
    "Button(root,text='DecisionTree ',activebackground=\"black\",command=DecCls,activeforeground=\"white\").place(x=550,y=220)\n",
    "\n",
    "Label(root,text= \"Best Classifier and Regressor  \",fg = \"green\",font=\"System 14\").place(x=300,y=350)\n",
    "\n",
    "Button(root,text='Best Classifier',activebackground=\"black\",command=Best_Class,activeforeground=\"white\").place(x=250,y=390)\n",
    "Button(root,text='Best Regressor',activebackground=\"black\",command=Best_Reg,activeforeground=\"white\").place(x=400,y=390)\n",
    "\n",
    "root.mainloop()"
   ]
  },
  {
   "cell_type": "code",
   "execution_count": null,
   "id": "fd37b963",
   "metadata": {},
   "outputs": [],
   "source": []
  },
  {
   "cell_type": "code",
   "execution_count": null,
   "id": "b7946ca6",
   "metadata": {},
   "outputs": [],
   "source": []
  },
  {
   "cell_type": "code",
   "execution_count": null,
   "id": "e4f0e399",
   "metadata": {},
   "outputs": [],
   "source": []
  }
 ],
 "metadata": {
  "kernelspec": {
   "display_name": "Python 3 (ipykernel)",
   "language": "python",
   "name": "python3"
  },
  "language_info": {
   "codemirror_mode": {
    "name": "ipython",
    "version": 3
   },
   "file_extension": ".py",
   "mimetype": "text/x-python",
   "name": "python",
   "nbconvert_exporter": "python",
   "pygments_lexer": "ipython3",
   "version": "3.9.13"
  }
 },
 "nbformat": 4,
 "nbformat_minor": 5
}
